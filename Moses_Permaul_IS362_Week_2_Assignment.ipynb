{
 "cells": [
  {
   "cell_type": "markdown",
   "metadata": {},
   "source": [
    "# Moses Permaul - IS362 - Assignment 2\n",
    "---"
   ]
  },
  {
   "cell_type": "markdown",
   "metadata": {},
   "source": [
    "## **Assignment**\n",
    "> Create a Jupyter Notebook about one aspect of data structures that you might find somewhat challenging. Your Jupyter Notebook should include both code and some documentation, which should utilize Markdown."
   ]
  },
  {
   "cell_type": "markdown",
   "metadata": {},
   "source": [
    "## **Challenging Aspect of a Python Data Structure**\n",
    "![Python List Comp](https://hackernoon.com/hn-images/1*vWntfgeKQaEdHb-AS8EPrg.png)"
   ]
  },
  {
   "cell_type": "markdown",
   "metadata": {},
   "source": [
    "## **What is List Comprehension?**\n",
    "> List Comprehension is a way of creating a list by running an expression on each item in a sequence. The code written consists of one line instead of instansitating a new list object and then looping through it seperatly and appending values. The syntax consists of brackets containing an expression, which is executed for each element along with a loop to iterate over each element."
   ]
  },
  {
   "cell_type": "markdown",
   "metadata": {},
   "source": [
    "## List Comprehension Syntax\n",
    "> To create a list using List Comprehension, the main elements are:\n",
    "> 1. **Expression**: a member of an object, a call to a method, or any other valid expression that returns a value\n",
    "> 2. **Variable**: represents a member of an input sequence \n",
    "> 3. **Input Sequence**: an object (list, set, function, string, etc) that can return its elements one at a time\n",
    "> 4. **Condition**: a optional predicate that needs to be satisfied, but isn't mandatory to include if not needed\n",
    "\n",
    "> ### **<u>Example:</u>**\n",
    "\n",
    "![List Pic](https://python-3-patterns-idioms-test.readthedocs.io/en/latest/_images/listComprehensions.gif)"
   ]
  },
  {
   "cell_type": "markdown",
   "metadata": {},
   "source": [
    "## **Creating and Updating a List - Without List Comprehension**\n",
    "> In this example, we want to take the string **\"CUNY School of Professional Studies\"**, iterate through it, and assign each letter as its own indexed element within a list.\n",
    "> 1. A blank list named **\"list_letters\"** is created.\n",
    "> 2. A **for loop** is used to iterate through the string.\n",
    "> 3. The variable **letter** is used to represent the current item (letter) in the string.\n",
    "> 4. The letter variable is appended to \"list_letters\"."
   ]
  },
  {
   "cell_type": "code",
   "execution_count": 1,
   "metadata": {},
   "outputs": [
    {
     "name": "stdout",
     "output_type": "stream",
     "text": [
      "['C', 'U', 'N', 'Y', ' ', 'S', 'c', 'h', 'o', 'o', 'l', ' ', 'o', 'f', ' ', 'P', 'r', 'o', 'f', 'e', 's', 's', 'i', 'o', 'n', 'a', 'l', ' ', 'S', 't', 'u', 'd', 'i', 'e', 's']\n"
     ]
    }
   ],
   "source": [
    "# create blank list using normal python syntax\n",
    "\n",
    "list_letters = []\n",
    "\n",
    "# using a for loop, iterate through an object\n",
    "# add each letter to list\n",
    "\n",
    "for letter in 'CUNY School of Professional Studies':\n",
    "    list_letters.append(letter)\n",
    "    \n",
    "# printing list will show a list with each letter in the input string as it's own element\n",
    "\n",
    "print(list_letters) # output: ['C', 'U', 'N', ... ', 'd', 'i', 'e', 's']"
   ]
  },
  {
   "cell_type": "markdown",
   "metadata": {},
   "source": [
    "## **Creating and Updating a List - With List Comprehension**\n",
    "> Using the same string **\"CUNY School of Professional Studies\"**, we will iterate through it and assign each letter as its own indexed element within a list using list comprehension.\n",
    "> 1. A new list called **\"list_comp_letters\"** is created and set equal to the results of the comprehension.\n",
    "> 2. The expression value **x** is used and represents the returned value from the input sequence.\n",
    "> 3. The input sequense is the string that we are going to iterate through.\n",
    "> 4. A **for loop** is used to step through the string with the second **x** value being the current item in the string"
   ]
  },
  {
   "cell_type": "code",
   "execution_count": 2,
   "metadata": {},
   "outputs": [
    {
     "name": "stdout",
     "output_type": "stream",
     "text": [
      "['C', 'U', 'N', 'Y', ' ', 'S', 'c', 'h', 'o', 'o', 'l', ' ', 'o', 'f', ' ', 'P', 'r', 'o', 'f', 'e', 's', 's', 'i', 'o', 'n', 'a', 'l', ' ', 'S', 't', 'u', 'd', 'i', 'e', 's']\n"
     ]
    }
   ],
   "source": [
    "# create the list list_comp_letters and set it equal to a comprehension\n",
    "\n",
    "list_comp_letters = [x for x in 'CUNY School of Professional Studies']\n",
    "\n",
    "# printing list will show a list with each letter in the input string as it's own element\n",
    "print(list_comp_letters) # output: ['C', 'U', 'N', ... ', 'd', 'i', 'e', 's']"
   ]
  },
  {
   "cell_type": "markdown",
   "metadata": {},
   "source": [
    "## **Another Example Using List Comprehension**\n",
    "> Using a pre-defined list of the numbers 1 through 9, we will iterate through the list and create 2 new lists. The first new list will contain the squared values of only the even numbers found in the pre-defined list. The second new list will contain the squared values of only the odd numbers found in the pre-defined list.\n",
    "> 1. A pre-defined list called nums is instansiated: **nums = [1, 2, 3, 4, 5, 6, 7, 8, 9]**\n",
    "> 2. A new list called **\"squared_even\"** is created and set equal to the results of the first comprehension.\n",
    "> 3. A new list called **\"squared_odd\"** is created and set equal to the results of the second comprehension.\n",
    "\n",
    "> For the comprehension:\n",
    "> 1. The expression value **x^2** is used and represent the returned value from the input sequence being squared.\n",
    "> 2. The input sequense is the nums list that we are going to iterate through.\n",
    "> 3. A **for loop** is used to step through the nums list with the second **x** value being the current item in the list.\n",
    "> 4. A condition is used to check to see if current nums list value is odd or even."
   ]
  },
  {
   "cell_type": "code",
   "execution_count": 3,
   "metadata": {},
   "outputs": [
    {
     "name": "stdout",
     "output_type": "stream",
     "text": [
      "[4, 16, 36, 64]\n",
      "[1, 9, 25, 49, 81]\n"
     ]
    }
   ],
   "source": [
    "# list contaning int number values 1-9\n",
    "nums = [1, 2, 3, 4, 5, 6, 7, 8, 9]\n",
    "\n",
    "# create list with squared values of even numbers from nums\n",
    "squared_even = [x**2 for x in nums if x%2 == 0]\n",
    "\n",
    "# create list with squared values of odd numbers from nums\n",
    "squared_odd = [x**2 for x in nums if x%2 == 1]\n",
    "\n",
    "# print squared view of even numbers from nums list\n",
    "print(squared_even) # output [4, 16, 36, 64]\n",
    "\n",
    "# print squared view of odd numbers from nums list\n",
    "print(squared_odd) # output [1, 9, 25, 49, 81]"
   ]
  },
  {
   "cell_type": "code",
   "execution_count": null,
   "metadata": {},
   "outputs": [],
   "source": []
  }
 ],
 "metadata": {
  "kernelspec": {
   "display_name": "Python 3",
   "language": "python",
   "name": "python3"
  },
  "language_info": {
   "codemirror_mode": {
    "name": "ipython",
    "version": 3
   },
   "file_extension": ".py",
   "mimetype": "text/x-python",
   "name": "python",
   "nbconvert_exporter": "python",
   "pygments_lexer": "ipython3",
   "version": "3.8.3"
  }
 },
 "nbformat": 4,
 "nbformat_minor": 2
}
